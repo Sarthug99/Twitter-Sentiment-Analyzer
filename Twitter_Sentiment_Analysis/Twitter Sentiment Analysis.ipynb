{
  "cells": [
    {
      "cell_type": "markdown",
      "metadata": {
        "id": "uFh0OglvUWVj"
      },
      "source": [
        "# **Twitter Sentiment Analysis**\n",
        "---\n",
        "\n"
      ]
    },
    {
      "cell_type": "code",
      "execution_count": null,
      "metadata": {
        "id": "5rUUrOlZTTBv"
      },
      "outputs": [],
      "source": [
        "# Import data structures\n",
        "import pandas as pd\n",
        "import numpy as np\n",
        "\n",
        "# Import NLP/Text Pre-Processing Libraries\n",
        "import re\n",
        "import string\n",
        "from nltk.corpus import stopwords\n",
        "from nltk.tokenize import word_tokenize\n",
        "from sklearn.feature_extraction.text import TfidfVectorizer\n",
        "from sklearn.model_selection import train_test_split\n",
        "from nltk.stem import PorterStemmer\n",
        "from nltk.stem import WordNetLemmatizer\n",
        "\n",
        "# Import scikit learn ML Libraries\n",
        "from sklearn import metrics\n",
        "from sklearn.naive_bayes import MultinomialNB\n",
        "from sklearn.linear_model import LogisticRegression\n",
        "from sklearn.tree import DecisionTreeClassifier\n",
        "from sklearn.ensemble import RandomForestClassifier\n",
        "from sklearn.svm import SVC\n",
        "\n",
        "# Import plotting tools\n",
        "import seaborn as sns\n",
        "import matplotlib.pyplot as plt"
      ]
    },
    {
      "cell_type": "markdown",
      "metadata": {
        "id": "rfXW4-joVhyv"
      },
      "source": [
        "# **Data Pre-Processing**\n",
        "\n"
      ]
    },
    {
      "cell_type": "code",
      "execution_count": null,
      "metadata": {
        "colab": {
          "base_uri": "https://localhost:8080/"
        },
        "id": "szJqoLwS3zDl",
        "outputId": "979f4f84-cfe2-40b0-f105-00fc5e4de61a"
      },
      "outputs": [
        {
          "name": "stdout",
          "output_type": "stream",
          "text": [
            "Requirement already satisfied: symspellpy in /usr/local/lib/python3.7/dist-packages (6.7.5)\n",
            "Requirement already satisfied: editdistpy>=0.1.3 in /usr/local/lib/python3.7/dist-packages (from symspellpy) (0.1.3)\n"
          ]
        }
      ],
      "source": [
        "pip install -U symspellpy\n"
      ]
    },
    {
      "cell_type": "code",
      "execution_count": null,
      "metadata": {
        "id": "CO0h354b36az"
      },
      "outputs": [],
      "source": [
        "from symspellpy.symspellpy import SymSpell"
      ]
    },
    {
      "cell_type": "code",
      "execution_count": null,
      "metadata": {
        "id": "jrn4QedHr72B"
      },
      "outputs": [],
      "source": [
        "# Create a set of stop words for O(1) access time in stop word removal\n",
        "# stop_words = set(stopwords.words('english'))\n",
        "\n",
        "# Try a different/smarter stop words list\n",
        "#stop_words = set(stopwords.words('computer'))"
      ]
    },
    {
      "cell_type": "code",
      "execution_count": null,
      "metadata": {
        "id": "V294tubDTeup"
      },
      "outputs": [],
      "source": [
        "# Takes in a filename and list of column names and generates a corresponding\n",
        "# Pandas dataframe\n",
        "def load_dataset(filename, cols):\n",
        "    dataset = pd.read_csv(filename, encoding='latin-1')\n",
        "    dataset.columns = cols\n",
        "    return dataset"
      ]
    },
    {
      "cell_type": "code",
      "execution_count": null,
      "metadata": {
        "id": "uaFlQmL6TkGo"
      },
      "outputs": [],
      "source": [
        "# Takes in a Pandas dataframe and removes unwanted columns specified in the \n",
        "#cols list parameter passed in\n",
        "def remove_unwanted_cols(dataset, cols):\n",
        "    for col in cols:\n",
        "        del dataset[col]\n",
        "    return dataset"
      ]
    },
    {
      "cell_type": "code",
      "execution_count": null,
      "metadata": {
        "id": "cyRxP8hoTpMU"
      },
      "outputs": [],
      "source": [
        "# Takes in tweet text and perform a series of natural language pre-processing\n",
        "# operations on the tweet to prepare for training state of pipeline\n",
        "def preprocess_tweet_text(tweet):\n",
        "    # Turn all characters in tweet text to lowercase\n",
        "    tweet = tweet.lower()\n",
        "\n",
        "    # Remove unwanted urls and web addresses from tweet text\n",
        "    tweet = re.sub(r\"http\\S+|www\\S+|https\\S+\", '', tweet, flags=re.MULTILINE)\n",
        "\n",
        "    # Remove user @ references and '#' from tweet text\n",
        "    tweet = re.sub(r'\\@\\w+|\\#','', tweet)\n",
        "\n",
        "    # Remove all numbers from tweet text\n",
        "    tweet = re.sub(r'[0-9]','', tweet)\n",
        "\n",
        "    # Remove punctuations from tweet text\n",
        "    tweet = tweet.translate(str.maketrans('', '', string.punctuation))\n",
        "\n",
        "    # Try segmenting/breaking up words combined into one word\n",
        "    # e.g. \"thecowjumpedoverthemoon\" -> \"the\" \"cow\" \"jumped\" \"over\" \"the\" \"moon\"\n",
        "    # result = sym_spell.word_segmentation(tweet)\n",
        "    # tweet = result.corrected_string\n",
        "\n",
        "    # Try tokenizing tweet text into individual words and removing stop words\n",
        "    # tweet_tokens = word_tokenize(tweet)\n",
        "    # filtered_words = [w for w in tweet_tokens if not w in stop_words]  \n",
        "    # return \" \".join(filtered_words)\n",
        "    \n",
        "    # Try spell correcting misspelled words\n",
        "    # spell = SpellChecker()\n",
        "    # spellchecked_words = []\n",
        "    # for word in tweet.split():\n",
        "        # Get the one `most likely` answer\n",
        "        # spellchecked_words.append(spell.correction(word))\n",
        "        # tweet = ' '.join(spellchecked_words)\n",
        "    \n",
        "    return tweet"
      ]
    },
    {
      "cell_type": "code",
      "execution_count": null,
      "metadata": {
        "id": "JYEviBWcTuCT"
      },
      "outputs": [],
      "source": [
        "# Performs feature extraction by creating a term frequency - inverse document\n",
        "# frequency (TF-IDF) feature vectorizer that is fit to the Pandas dataframe\n",
        "# passed in\n",
        "def get_feature_vector(train_fit):\n",
        "  \n",
        "    # Try unigram vectorization\n",
        "    # vector = TfidfVectorizer(sublinear_tf=True)\n",
        "\n",
        "    # Try unigram/bigram vectorization\n",
        "    # vector = TfidfVectorizer(ngram_range=(1,2), sublinear_tf=True)\n",
        "\n",
        "    # Initialize unigram/bigram/trigram vectorizer and fit to data\n",
        "    vector = TfidfVectorizer(ngram_range=(1,3), sublinear_tf=True)\n",
        "    vector.fit_transform(train_fit)\n",
        "    return vector"
      ]
    },
    {
      "cell_type": "code",
      "execution_count": null,
      "metadata": {
        "id": "Hwx9XpOsTwo8"
      },
      "outputs": [],
      "source": [
        "# Convert integer representation of sentiment to string representation of\n",
        "# sentiment\n",
        "def int_to_string(sentiment):\n",
        "    if sentiment == 0:\n",
        "        return \"Negative\"\n",
        "    elif sentiment == 2:\n",
        "        return \"Neutral\"\n",
        "    else:\n",
        "        return \"Positive\""
      ]
    },
    {
      "cell_type": "code",
      "execution_count": null,
      "metadata": {
        "colab": {
          "base_uri": "https://localhost:8080/"
        },
        "id": "YJE4eaUTKbNR",
        "outputId": "61f40dd1-da35-4b7e-8c54-507913bafc35"
      },
      "outputs": [
        {
          "name": "stdout",
          "output_type": "stream",
          "text": [
            "Drive already mounted at /content/drive; to attempt to forcibly remount, call drive.mount(\"/content/drive\", force_remount=True).\n"
          ]
        }
      ],
      "source": [
        "from google.colab import drive\n",
        "drive.mount('/content/drive')"
      ]
    },
    {
      "cell_type": "code",
      "execution_count": null,
      "metadata": {
        "id": "RN9PDOhBT1gu"
      },
      "outputs": [],
      "source": [
        "# Load dataset\n",
        "dataset = load_dataset(\"/content/drive/MyDrive/data.csv\", ['target', 't_id', 'created_at', 'query', 'user', 'text'])\n",
        "# Remove unwanted columns from dataset\n",
        "dataset = remove_unwanted_cols(dataset, ['t_id','created_at', 'query', 'user'])\n",
        "#Preprocess data\n",
        "dataset.text = dataset['text'].apply(preprocess_tweet_text)"
      ]
    },
    {
      "cell_type": "code",
      "execution_count": null,
      "metadata": {
        "colab": {
          "base_uri": "https://localhost:8080/",
          "height": 423
        },
        "id": "ntezelCNCL0f",
        "outputId": "0211dcbf-e6fa-4f9a-c626-92925dd45c49"
      },
      "outputs": [
        {
          "data": {
            "text/html": [
              "\n",
              "  <div id=\"df-6dd16f01-b90d-4877-9af8-652347837acf\">\n",
              "    <div class=\"colab-df-container\">\n",
              "      <div>\n",
              "<style scoped>\n",
              "    .dataframe tbody tr th:only-of-type {\n",
              "        vertical-align: middle;\n",
              "    }\n",
              "\n",
              "    .dataframe tbody tr th {\n",
              "        vertical-align: top;\n",
              "    }\n",
              "\n",
              "    .dataframe thead th {\n",
              "        text-align: right;\n",
              "    }\n",
              "</style>\n",
              "<table border=\"1\" class=\"dataframe\">\n",
              "  <thead>\n",
              "    <tr style=\"text-align: right;\">\n",
              "      <th></th>\n",
              "      <th>target</th>\n",
              "      <th>text</th>\n",
              "    </tr>\n",
              "  </thead>\n",
              "  <tbody>\n",
              "    <tr>\n",
              "      <th>0</th>\n",
              "      <td>0</td>\n",
              "      <td>upset that  cant update his facebook  texting ...</td>\n",
              "    </tr>\n",
              "    <tr>\n",
              "      <th>1</th>\n",
              "      <td>0</td>\n",
              "      <td>dived many times for the ball managed  save   ...</td>\n",
              "    </tr>\n",
              "    <tr>\n",
              "      <th>2</th>\n",
              "      <td>0</td>\n",
              "      <td>its not behaving  all  mad why   here because ...</td>\n",
              "    </tr>\n",
              "    <tr>\n",
              "      <th>3</th>\n",
              "      <td>0</td>\n",
              "      <td>not the whole crew</td>\n",
              "    </tr>\n",
              "    <tr>\n",
              "      <th>4</th>\n",
              "      <td>0</td>\n",
              "      <td>need  hug</td>\n",
              "    </tr>\n",
              "    <tr>\n",
              "      <th>...</th>\n",
              "      <td>...</td>\n",
              "      <td>...</td>\n",
              "    </tr>\n",
              "    <tr>\n",
              "      <th>1310101</th>\n",
              "      <td>1</td>\n",
              "      <td>just woke  having  school  the best feeling ever</td>\n",
              "    </tr>\n",
              "    <tr>\n",
              "      <th>1310102</th>\n",
              "      <td>1</td>\n",
              "      <td>thewdbcom  very cool  hear old walt interviews...</td>\n",
              "    </tr>\n",
              "    <tr>\n",
              "      <th>1310103</th>\n",
              "      <td>1</td>\n",
              "      <td>are you ready for your mojo makeover ask  for ...</td>\n",
              "    </tr>\n",
              "    <tr>\n",
              "      <th>1310104</th>\n",
              "      <td>1</td>\n",
              "      <td>happy  birthday   boo  alll time tupac amaru s...</td>\n",
              "    </tr>\n",
              "    <tr>\n",
              "      <th>1310105</th>\n",
              "      <td>1</td>\n",
              "      <td>happy charitytuesday</td>\n",
              "    </tr>\n",
              "  </tbody>\n",
              "</table>\n",
              "<p>1310106 rows × 2 columns</p>\n",
              "</div>\n",
              "      <button class=\"colab-df-convert\" onclick=\"convertToInteractive('df-6dd16f01-b90d-4877-9af8-652347837acf')\"\n",
              "              title=\"Convert this dataframe to an interactive table.\"\n",
              "              style=\"display:none;\">\n",
              "        \n",
              "  <svg xmlns=\"http://www.w3.org/2000/svg\" height=\"24px\"viewBox=\"0 0 24 24\"\n",
              "       width=\"24px\">\n",
              "    <path d=\"M0 0h24v24H0V0z\" fill=\"none\"/>\n",
              "    <path d=\"M18.56 5.44l.94 2.06.94-2.06 2.06-.94-2.06-.94-.94-2.06-.94 2.06-2.06.94zm-11 1L8.5 8.5l.94-2.06 2.06-.94-2.06-.94L8.5 2.5l-.94 2.06-2.06.94zm10 10l.94 2.06.94-2.06 2.06-.94-2.06-.94-.94-2.06-.94 2.06-2.06.94z\"/><path d=\"M17.41 7.96l-1.37-1.37c-.4-.4-.92-.59-1.43-.59-.52 0-1.04.2-1.43.59L10.3 9.45l-7.72 7.72c-.78.78-.78 2.05 0 2.83L4 21.41c.39.39.9.59 1.41.59.51 0 1.02-.2 1.41-.59l7.78-7.78 2.81-2.81c.8-.78.8-2.07 0-2.86zM5.41 20L4 18.59l7.72-7.72 1.47 1.35L5.41 20z\"/>\n",
              "  </svg>\n",
              "      </button>\n",
              "      \n",
              "  <style>\n",
              "    .colab-df-container {\n",
              "      display:flex;\n",
              "      flex-wrap:wrap;\n",
              "      gap: 12px;\n",
              "    }\n",
              "\n",
              "    .colab-df-convert {\n",
              "      background-color: #E8F0FE;\n",
              "      border: none;\n",
              "      border-radius: 50%;\n",
              "      cursor: pointer;\n",
              "      display: none;\n",
              "      fill: #1967D2;\n",
              "      height: 32px;\n",
              "      padding: 0 0 0 0;\n",
              "      width: 32px;\n",
              "    }\n",
              "\n",
              "    .colab-df-convert:hover {\n",
              "      background-color: #E2EBFA;\n",
              "      box-shadow: 0px 1px 2px rgba(60, 64, 67, 0.3), 0px 1px 3px 1px rgba(60, 64, 67, 0.15);\n",
              "      fill: #174EA6;\n",
              "    }\n",
              "\n",
              "    [theme=dark] .colab-df-convert {\n",
              "      background-color: #3B4455;\n",
              "      fill: #D2E3FC;\n",
              "    }\n",
              "\n",
              "    [theme=dark] .colab-df-convert:hover {\n",
              "      background-color: #434B5C;\n",
              "      box-shadow: 0px 1px 3px 1px rgba(0, 0, 0, 0.15);\n",
              "      filter: drop-shadow(0px 1px 2px rgba(0, 0, 0, 0.3));\n",
              "      fill: #FFFFFF;\n",
              "    }\n",
              "  </style>\n",
              "\n",
              "      <script>\n",
              "        const buttonEl =\n",
              "          document.querySelector('#df-6dd16f01-b90d-4877-9af8-652347837acf button.colab-df-convert');\n",
              "        buttonEl.style.display =\n",
              "          google.colab.kernel.accessAllowed ? 'block' : 'none';\n",
              "\n",
              "        async function convertToInteractive(key) {\n",
              "          const element = document.querySelector('#df-6dd16f01-b90d-4877-9af8-652347837acf');\n",
              "          const dataTable =\n",
              "            await google.colab.kernel.invokeFunction('convertToInteractive',\n",
              "                                                     [key], {});\n",
              "          if (!dataTable) return;\n",
              "\n",
              "          const docLinkHtml = 'Like what you see? Visit the ' +\n",
              "            '<a target=\"_blank\" href=https://colab.research.google.com/notebooks/data_table.ipynb>data table notebook</a>'\n",
              "            + ' to learn more about interactive tables.';\n",
              "          element.innerHTML = '';\n",
              "          dataTable['output_type'] = 'display_data';\n",
              "          await google.colab.output.renderOutput(dataTable, element);\n",
              "          const docLink = document.createElement('div');\n",
              "          docLink.innerHTML = docLinkHtml;\n",
              "          element.appendChild(docLink);\n",
              "        }\n",
              "      </script>\n",
              "    </div>\n",
              "  </div>\n",
              "  "
            ],
            "text/plain": [
              "         target                                               text\n",
              "0             0  upset that  cant update his facebook  texting ...\n",
              "1             0  dived many times for the ball managed  save   ...\n",
              "2             0  its not behaving  all  mad why   here because ...\n",
              "3             0                                not the whole crew \n",
              "4             0                                         need  hug \n",
              "...         ...                                                ...\n",
              "1310101       1  just woke  having  school  the best feeling ever \n",
              "1310102       1  thewdbcom  very cool  hear old walt interviews...\n",
              "1310103       1  are you ready for your mojo makeover ask  for ...\n",
              "1310104       1  happy  birthday   boo  alll time tupac amaru s...\n",
              "1310105       1                           happy charitytuesday    \n",
              "\n",
              "[1310106 rows x 2 columns]"
            ]
          },
          "execution_count": 13,
          "metadata": {},
          "output_type": "execute_result"
        }
      ],
      "source": [
        "dataset"
      ]
    },
    {
      "cell_type": "code",
      "execution_count": null,
      "metadata": {
        "id": "bLDX6dtNC2Ak"
      },
      "outputs": [],
      "source": [
        "dataset.to_csv('/content/drive/MyDrive/featured_data_new.csv', header=True)"
      ]
    },
    {
      "cell_type": "markdown",
      "metadata": {
        "id": "mTR_6FFiXKBR"
      },
      "source": [
        "# **Machine Learning Models and Performance**\n",
        "\n",
        "## Feature Extraction\n"
      ]
    },
    {
      "cell_type": "code",
      "execution_count": null,
      "metadata": {
        "id": "WTNoi8xcJ2FN"
      },
      "outputs": [],
      "source": [
        "# Same tf vector will be used for Testing sentiments on unseen trending data\n",
        "tf_vector = get_feature_vector(np.array(dataset.iloc[:, 1]).ravel())\n",
        "X = tf_vector.transform(np.array(dataset.iloc[:, 1]).ravel())\n",
        "y = np.array(dataset.iloc[:, 0]).ravel()\n"
      ]
    },
    {
      "cell_type": "code",
      "execution_count": null,
      "metadata": {
        "id": "crZ5Q4fW_pUy"
      },
      "outputs": [],
      "source": [
        "X_train, X_test, y_train, y_test = train_test_split(X, y, test_size=0.2, random_state=30)"
      ]
    },
    {
      "cell_type": "markdown",
      "metadata": {
        "id": "9FwV2eTCXfqi"
      },
      "source": [
        "## Naive-Bayes Classifier\n",
        "\n"
      ]
    },
    {
      "cell_type": "code",
      "execution_count": null,
      "metadata": {
        "colab": {
          "base_uri": "https://localhost:8080/",
          "height": 469
        },
        "id": "h63QduLvJ2FN",
        "outputId": "c3eb6108-c2e1-4f5f-d45e-178f680c6fd8"
      },
      "outputs": [
        {
          "name": "stdout",
          "output_type": "stream",
          "text": [
            "              precision    recall  f1-score   support\n",
            "\n",
            "    Positive       0.79      0.82      0.81    131560\n",
            "    Negative       0.81      0.78      0.80    130462\n",
            "\n",
            "    accuracy                           0.80    262022\n",
            "   macro avg       0.80      0.80      0.80    262022\n",
            "weighted avg       0.80      0.80      0.80    262022\n",
            "\n"
          ]
        },
        {
          "data": {
            "text/plain": [
              "Text(0.5, 15.0, 'Predicted')"
            ]
          },
          "execution_count": 18,
          "metadata": {},
          "output_type": "execute_result"
        },
        {
          "data": {
            "image/png": "[encoded data removed]",
            "text/plain": [
              "<Figure size 432x288 with 2 Axes>"
            ]
          },
          "metadata": {
            "needs_background": "light"
          },
          "output_type": "display_data"
        }
      ],
      "source": [
        "# Training Naive Bayes model\n",
        "NB_model = MultinomialNB()\n",
        "NB_model.fit(X_train, y_train)\n",
        "y_predict_nb = NB_model.predict(X_test)\n",
        "\n",
        "print(metrics.classification_report(y_test, y_predict_nb,target_names=['Positive', 'Negative']))\n",
        "\n",
        "cnf_matrix = metrics.confusion_matrix(y_test, y_predict_nb)\n",
        "\n",
        "labels = [0, 1]\n",
        "fig, ax = plt.subplots()\n",
        "tick_marks = np.arange(len(labels))\n",
        "plt.xticks(tick_marks, labels)\n",
        "plt.yticks(tick_marks, labels)\n",
        "\n",
        "# Heatmap effect is added to confusion matrix\n",
        "sns.heatmap(cnf_matrix, annot=True, cmap=\"YlGnBu\", fmt='g')\n",
        "ax.set_ylim([0,2])\n",
        "plt.title('Confusion matrix', y=1.1)\n",
        "plt.ylabel('True')\n",
        "plt.xlabel('Predicted')"
      ]
    },
    {
      "cell_type": "markdown",
      "metadata": {
        "id": "thig7nxScu8u"
      },
      "source": [
        "## Logistic Regression\n",
        "\n",
        "\n"
      ]
    },
    {
      "cell_type": "code",
      "execution_count": null,
      "metadata": {
        "colab": {
          "base_uri": "https://localhost:8080/",
          "height": 607
        },
        "id": "Ym-ZCIc5J2FO",
        "outputId": "d16217eb-62fe-4447-c0e6-bb2f088d57f5",
        "scrolled": true
      },
      "outputs": [
        {
          "name": "stderr",
          "output_type": "stream",
          "text": [
            "/usr/local/lib/python3.7/dist-packages/sklearn/linear_model/_logistic.py:818: ConvergenceWarning: lbfgs failed to converge (status=1):\n",
            "STOP: TOTAL NO. of ITERATIONS REACHED LIMIT.\n",
            "\n",
            "Increase the number of iterations (max_iter) or scale the data as shown in:\n",
            "    https://scikit-learn.org/stable/modules/preprocessing.html\n",
            "Please also refer to the documentation for alternative solver options:\n",
            "    https://scikit-learn.org/stable/modules/linear_model.html#logistic-regression\n",
            "  extra_warning_msg=_LOGISTIC_SOLVER_CONVERGENCE_MSG,\n"
          ]
        },
        {
          "name": "stdout",
          "output_type": "stream",
          "text": [
            "              precision    recall  f1-score   support\n",
            "\n",
            "    Positive       0.82      0.79      0.81    131560\n",
            "    Negative       0.80      0.82      0.81    130462\n",
            "\n",
            "    accuracy                           0.81    262022\n",
            "   macro avg       0.81      0.81      0.81    262022\n",
            "weighted avg       0.81      0.81      0.81    262022\n",
            "\n"
          ]
        },
        {
          "data": {
            "text/plain": [
              "Text(0.5, 15.0, 'Predicted')"
            ]
          },
          "execution_count": 21,
          "metadata": {},
          "output_type": "execute_result"
        },
        {
          "data": {
            "image/png": "[encoded data removed]",
            "text/plain": [
              "<Figure size 432x288 with 2 Axes>"
            ]
          },
          "metadata": {
            "needs_background": "light"
          },
          "output_type": "display_data"
        }
      ],
      "source": [
        "# Training Logistics Regression model\n",
        "LR_model = LogisticRegression(solver='lbfgs', C=2)\n",
        "LR_model.fit(X_train, y_train)\n",
        "y_predict_lr = LR_model.predict(X_test)\n",
        "\n",
        "print(metrics.classification_report(y_test, y_predict_lr,target_names=['Positive', 'Negative']))\n",
        "\n",
        "cnf_matrix = metrics.confusion_matrix(y_test, y_predict_lr)\n",
        "\n",
        "labels = [0, 1]\n",
        "fig, ax = plt.subplots()\n",
        "tick_marks = np.arange(len(labels))\n",
        "plt.xticks(tick_marks, labels)\n",
        "plt.yticks(tick_marks, labels)\n",
        "\n",
        "# Heatmap effect is added to confusion matrix\n",
        "sns.heatmap(cnf_matrix, annot=True, cmap=\"YlGnBu\", fmt='g')\n",
        "ax.set_ylim([0,2])\n",
        "plt.title('Confusion matrix', y=1.1)\n",
        "plt.ylabel('True')\n",
        "plt.xlabel('Predicted')"
      ]
    },
    {
      "cell_type": "markdown",
      "metadata": {
        "id": "3aNa5zk1e5R5"
      },
      "source": [
        "# Decision Tree:\n"
      ]
    },
    {
      "cell_type": "code",
      "execution_count": null,
      "metadata": {
        "id": "iha5zwLWLEDA"
      },
      "outputs": [],
      "source": [
        "from sklearn.tree import DecisionTreeClassifier"
      ]
    },
    {
      "cell_type": "code",
      "execution_count": null,
      "metadata": {
        "colab": {
          "base_uri": "https://localhost:8080/",
          "height": 538
        },
        "id": "8mw5AkZbJ2FQ",
        "outputId": "0cde1dc5-f46a-4c4a-f305-9da6767145c0"
      },
      "outputs": [
        {
          "name": "stdout",
          "output_type": "stream",
          "text": [
            "hello\n",
            "classifier\n",
            "trained\n",
            "predicted\n",
            "              precision    recall  f1-score   support\n",
            "\n",
            "    Positive       0.66      0.01      0.02    131560\n",
            "    Negative       0.50      0.99      0.66    130462\n",
            "\n",
            "    accuracy                           0.50    262022\n",
            "   macro avg       0.58      0.50      0.34    262022\n",
            "weighted avg       0.58      0.50      0.34    262022\n",
            "\n"
          ]
        },
        {
          "data": {
            "text/plain": [
              "Text(0.5, 15.0, 'Predicted')"
            ]
          },
          "execution_count": 23,
          "metadata": {},
          "output_type": "execute_result"
        },
        {
          "data": {
            "image/png": "[encoded data removed]",
            "text/plain": [
              "<Figure size 432x288 with 2 Axes>"
            ]
          },
          "metadata": {
            "needs_background": "light"
          },
          "output_type": "display_data"
        }
      ],
      "source": [
        "# Training Decision Tree model\n",
        "print(\"hello\")\n",
        "clf = DecisionTreeClassifier(max_depth=8, max_features=\"auto\")\n",
        "print(\"classifier\")\n",
        "clf.fit(X_train, y_train)\n",
        "print(\"trained\")\n",
        "y_predict_dt = clf.predict(X_test)\n",
        "print(\"predicted\")\n",
        "\n",
        "print(metrics.classification_report(y_test, y_predict_dt,target_names=['Positive', 'Negative']))\n",
        "\n",
        "cnf_matrix = metrics.confusion_matrix(y_test, y_predict_dt)\n",
        "\n",
        "labels = [0, 1]\n",
        "fig, ax = plt.subplots()\n",
        "tick_marks = np.arange(len(labels))\n",
        "plt.xticks(tick_marks, labels)\n",
        "plt.yticks(tick_marks, labels)\n",
        "\n",
        "# Heatmap effect is added to confusion matrix\n",
        "sns.heatmap(cnf_matrix, annot=True, cmap=\"YlGnBu\", fmt='g')\n",
        "ax.set_ylim([0,2])\n",
        "plt.title('Confusion matrix', y=1.1)\n",
        "plt.ylabel('True')\n",
        "plt.xlabel('Predicted')"
      ]
    },
    {
      "cell_type": "code",
      "execution_count": null,
      "metadata": {
        "id": "LPaPWIvRJ2FR"
      },
      "outputs": [],
      "source": [
        "# Training Random Forest Model\n",
        "clf = RandomForestClassifier(n_estimators=10)\n",
        "clf.fit(X_train, y_train)\n",
        "y_predict_rf = clf.predict(X_test)\n",
        "\n",
        "print(metrics.classification_report(y_test, y_predict_rf,target_names=['Positive', 'Negative']))\n",
        "\n",
        "cnf_matrix = metrics.confusion_matrix(y_test, y_predict_rf)\n",
        "\n",
        "labels = [0, 1]\n",
        "fig, ax = plt.subplots()\n",
        "tick_marks = np.arange(len(labels))\n",
        "plt.xticks(tick_marks, labels)\n",
        "plt.yticks(tick_marks, labels)\n",
        "\n",
        "# Heatmap effect is added to confusion matrix\n",
        "sns.heatmap(cnf_matrix, annot=True, cmap=\"YlGnBu\", fmt='g')\n",
        "ax.set_ylim([0,2])\n",
        "plt.title('Confusion matrix', y=1.1)\n",
        "plt.ylabel('True')\n",
        "plt.xlabel('Predicted')"
      ]
    },
    {
      "cell_type": "code",
      "execution_count": null,
      "metadata": {
        "colab": {
          "base_uri": "https://localhost:8080/"
        },
        "id": "JD_9YXxFamCK",
        "outputId": "54daf454-067f-4864-ca60-a4c5e4bd8fed"
      },
      "outputs": [
        {
          "name": "stdout",
          "output_type": "stream",
          "text": [
            "hello\n",
            "classifier\n"
          ]
        }
      ],
      "source": [
        "from sklearn.ensemble import AdaBoostClassifier\n",
        "print(\"hello\")\n",
        "clf = AdaBoostClassifier(base_estimator=LR_model)\n",
        "print(\"classifier\")\n",
        "clf.fit(X_train, y_train)\n",
        "print(\"trained\")\n",
        "y_predict_abc = clf.predict(X_test)\n",
        "print(\"predicted\")"
      ]
    },
    {
      "cell_type": "code",
      "execution_count": null,
      "metadata": {
        "id": "lLk7ljDXan5h"
      },
      "outputs": [],
      "source": [
        "print(metrics.classification_report(y_test, y_predict_abc,target_names=['Positive', 'Negative']))\n",
        "\n",
        "cnf_matrix = metrics.confusion_matrix(y_test, y_predict_abc)\n",
        "\n",
        "labels = [0, 1]\n",
        "fig, ax = plt.subplots()\n",
        "tick_marks = np.arange(len(labels))\n",
        "plt.xticks(tick_marks, labels)\n",
        "plt.yticks(tick_marks, labels)\n",
        "\n",
        "# Heatmap effect is added to confusion matrix\n",
        "sns.heatmap(cnf_matrix, annot=True, cmap=\"YlGnBu\", fmt='g')\n",
        "ax.set_ylim([0,2])\n",
        "plt.title('Confusion matrix', y=1.1)\n",
        "plt.ylabel('True')\n",
        "plt.xlabel('Predicted')"
      ]
    },
    {
      "cell_type": "code",
      "execution_count": null,
      "metadata": {
        "colab": {
          "base_uri": "https://localhost:8080/"
        },
        "id": "3eRiLxV7ZcLc",
        "outputId": "a7334546-34d9-44c7-82fe-d0cebabf5c1c"
      },
      "outputs": [
        {
          "name": "stderr",
          "output_type": "stream",
          "text": [
            "/usr/local/lib/python3.7/dist-packages/ipykernel_launcher.py:5: UserWarning: Pandas doesn't allow columns to be created via a new attribute name - see https://pandas.pydata.org/pandas-docs/stable/indexing.html#attribute-access\n",
            "  \"\"\"\n",
            "/usr/local/lib/python3.7/dist-packages/ipykernel_launcher.py:15: UserWarning: Pandas doesn't allow columns to be created via a new attribute name - see https://pandas.pydata.org/pandas-docs/stable/indexing.html#attribute-access\n",
            "  from ipykernel import kernelapp as app\n"
          ]
        },
        {
          "name": "stdout",
          "output_type": "stream",
          "text": [
            "             target\n",
            "tweet_index        \n",
            "1467810369        0\n",
            "1467811184        0\n",
            "1986106482        0\n",
            "2324660036        0\n",
            "1467811594        1\n",
            "...             ...\n",
            "1964021414        1\n",
            "2014990392        0\n",
            "2014990424        1\n",
            "2014990586        1\n",
            "2190808431        1\n",
            "\n",
            "[289834 rows x 1 columns]\n"
          ]
        }
      ],
      "source": [
        "#Cleaned meaning - for ease, we had removed some unneccasry colums from the eval dataset. If trying on the normal evaluation data, you can use the code below (commented):\n",
        "'''\n",
        "dataset = load_dataset(\"twitter_sentiments_evaluation.csv\", ['tweet_index', 'created_at', 'query', 'user', 'tweet'])\n",
        "# Remove unwanted columns from dataset\n",
        "test_ds = remove_unwanted_cols(dataset, ['created_at', 'query', 'user'])\n",
        "#test_ds = remove_unwanted_cols(test_ds, [\"time_stamp\", \"user\"])\n",
        "'''\n",
        "\n",
        "test_file_name = \"/content/drive/MyDrive/evaluation_cleaned.csv\" \n",
        "test_ds = load_dataset(test_file_name, [\"tweet_index\", \"tweet\"])\n",
        "#test_ds = remove_unwanted_cols(test_ds, [\"time_stamp\", \"user\"])\n",
        "# Creating text feature\n",
        "test_ds.text = test_ds[\"tweet\"].apply(preprocess_tweet_text)\n",
        "test_feature = tf_vector.transform(np.array(test_ds.iloc[:, 1]).ravel())\n",
        "\n",
        "# Using Logistic Regression model for prediction\n",
        "test_prediction_lr = LR_model.predict(test_feature)\n",
        "\n",
        "# Averaging out the hashtags result\n",
        "test_result_ds = pd.DataFrame({'tweet_index': test_ds.tweet_index, 'target':test_prediction_lr})\n",
        "#test_result = test_result_ds.groupby(['hashtag']).max().reset_index()\n",
        "test_result_ds.columns = ['tweet_index', 'target']\n",
        "test_result_ds.predictions = test_result_ds['target']\n",
        "test_result_ds = test_result_ds.set_index('tweet_index')\n",
        "\n",
        "print(test_result_ds)\n",
        "test_result_ds.to_csv('test_predictions_newnewnewnewnew.csv', header=True)"
      ]
    }
  ],
  "metadata": {
    "colab": {
      "collapsed_sections": [],
      "name": "EE505_Final_Report+Code_Submission.ipynb",
      "provenance": []
    },
    "kernelspec": {
      "display_name": "Python 3",
      "language": "python",
      "name": "python3"
    },
    "language_info": {
      "codemirror_mode": {
        "name": "ipython",
        "version": 3
      },
      "file_extension": ".py",
      "mimetype": "text/x-python",
      "name": "python",
      "nbconvert_exporter": "python",
      "pygments_lexer": "ipython3",
      "version": "3.7.4"
    }
  },
  "nbformat": 4,
  "nbformat_minor": 0
}
